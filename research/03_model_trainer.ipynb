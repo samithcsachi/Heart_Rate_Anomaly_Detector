{
 "cells": [
  {
   "cell_type": "code",
   "execution_count": null,
   "id": "ffbfdd61",
   "metadata": {},
   "outputs": [],
   "source": [
    "import os"
   ]
  },
  {
   "cell_type": "code",
   "execution_count": null,
   "id": "dd283915",
   "metadata": {},
   "outputs": [],
   "source": [
    "%pwd"
   ]
  },
  {
   "cell_type": "code",
   "execution_count": null,
   "id": "ba9827ea",
   "metadata": {},
   "outputs": [],
   "source": [
    "os.chdir(\"../\")"
   ]
  },
  {
   "cell_type": "code",
   "execution_count": null,
   "id": "a35fde99",
   "metadata": {},
   "outputs": [],
   "source": [
    "%pwd"
   ]
  },
  {
   "cell_type": "code",
   "execution_count": null,
   "id": "a6a90442",
   "metadata": {},
   "outputs": [],
   "source": [
    "from dataclasses import dataclass\n",
    "from pathlib import Path"
   ]
  },
  {
   "cell_type": "code",
   "execution_count": null,
   "id": "63aad981",
   "metadata": {},
   "outputs": [],
   "source": [
    "@dataclass(frozen=True)\n",
    "class ModelTrainerConfig:\n",
    "    root_dir: Path\n",
    "    train_heart_rate_data_path: Path\n",
    "    test_heart_rate_data_path: Path\n",
    "    train_is_anomaly_data_path: Path\n",
    "    test_is_anomaly_data_path: Path\n",
    "    data_transformation_dir: Path  \n",
    "    \n",
    "   \n",
    "    heart_rate_predictor_model_name: str\n",
    "    anomaly_detector_model_name: str\n",
    "    \n",
    "    \n",
    "    heart_rate_target_column: str\n",
    "    anomaly_target_column: str"
   ]
  },
  {
   "cell_type": "code",
   "execution_count": null,
   "id": "876ada10",
   "metadata": {},
   "outputs": [],
   "source": [
    "from Air_Quality_Health_Alert_System.constants import *\n",
    "from Air_Quality_Health_Alert_System.utils.common import read_yaml, create_directories"
   ]
  },
  {
   "cell_type": "code",
   "execution_count": null,
   "id": "d4672ceb",
   "metadata": {},
   "outputs": [],
   "source": [
    "class ConfigurationManager:\n",
    "    def __init__(\n",
    "        self,\n",
    "        config_filepath = CONFIG_FILE_PATH,\n",
    "        params_filepath = PARAMS_FILE_PATH,\n",
    "        schema_filepath = SCHEMA_FILE_PATH):\n",
    "\n",
    "        self.config = read_yaml(config_filepath)\n",
    "        self.params = read_yaml(params_filepath)\n",
    "        self.schema = read_yaml(schema_filepath)\n",
    "\n",
    "        create_directories([self.config.artifacts_root])\n",
    "        \n",
    "    def get_model_trainer_config(self) -> ModelTrainerConfig:\n",
    "        config = self.config.model_trainer\n",
    "        \n",
    "        \n",
    "        heart_rate_params = self.params.HEART_RATE_PREDICTOR\n",
    "        anomaly_params = self.params.ANOMALY_DETECTOR\n",
    "        \n",
    "        \n",
    "        heart_rate_schema = self.schema.HEART_RATE_TARGET\n",
    "        anomaly_schema = self.schema.ANOMALY_TARGET\n",
    "\n",
    "        create_directories([config.root_dir])\n",
    "\n",
    "        model_trainer_config = ModelTrainerConfig(\n",
    "            root_dir=Path(config.root_dir),\n",
    "            train_heart_rate_data_path=Path(config.data_path.train_heart_rate),\n",
    "            test_heart_rate_data_path=Path(config.data_path.test_heart_rate),\n",
    "            train_is_anomaly_data_path=Path(config.data_path.train_is_anomaly),\n",
    "            test_is_anomaly_data_path=Path(config.data_path.test_is_anomaly),\n",
    "            data_transformation_dir=Path(self.config.data_transformation.root_dir),\n",
    "            \n",
    "         \n",
    "            heart_rate_predictor_model_name=config.model_name.heart_rate_predictor,\n",
    "            anomaly_detector_model_name=config.model_name.anomaly_detector,\n",
    "            \n",
    "            \n",
    "            heart_rate_target_column=heart_rate_schema.name,\n",
    "            anomaly_target_column=anomaly_schema.name\n",
    "        )\n",
    "        return model_trainer_config"
   ]
  }
 ],
 "metadata": {
  "kernelspec": {
   "display_name": "Python 3",
   "language": "python",
   "name": "python3"
  },
  "language_info": {
   "name": "python",
   "version": "3.13.7"
  }
 },
 "nbformat": 4,
 "nbformat_minor": 5
}
