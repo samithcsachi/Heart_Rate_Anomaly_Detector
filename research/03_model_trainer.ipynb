{
 "cells": [
  {
   "cell_type": "code",
   "execution_count": 1,
   "id": "ffbfdd61",
   "metadata": {},
   "outputs": [],
   "source": [
    "import os"
   ]
  },
  {
   "cell_type": "code",
   "execution_count": 2,
   "id": "dd283915",
   "metadata": {},
   "outputs": [
    {
     "data": {
      "text/plain": [
       "'d:\\\\SAMITH\\\\Github\\\\Heart_Rate_Anomaly_Detector\\\\research'"
      ]
     },
     "execution_count": 2,
     "metadata": {},
     "output_type": "execute_result"
    }
   ],
   "source": [
    "%pwd"
   ]
  },
  {
   "cell_type": "code",
   "execution_count": 3,
   "id": "ba9827ea",
   "metadata": {},
   "outputs": [],
   "source": [
    "os.chdir(\"../\")"
   ]
  },
  {
   "cell_type": "code",
   "execution_count": 4,
   "id": "a35fde99",
   "metadata": {},
   "outputs": [
    {
     "data": {
      "text/plain": [
       "'d:\\\\SAMITH\\\\Github\\\\Heart_Rate_Anomaly_Detector'"
      ]
     },
     "execution_count": 4,
     "metadata": {},
     "output_type": "execute_result"
    }
   ],
   "source": [
    "%pwd"
   ]
  },
  {
   "cell_type": "code",
   "execution_count": 5,
   "id": "a6a90442",
   "metadata": {},
   "outputs": [],
   "source": [
    "from dataclasses import dataclass\n",
    "from pathlib import Path"
   ]
  },
  {
   "cell_type": "code",
   "execution_count": 6,
   "id": "63aad981",
   "metadata": {},
   "outputs": [],
   "source": [
    "@dataclass(frozen=True)\n",
    "class ModelTrainerConfig:\n",
    "    root_dir: Path\n",
    "    train_heart_rate_data_path: Path\n",
    "    test_heart_rate_data_path: Path\n",
    "    train_is_anomaly_data_path: Path\n",
    "    test_is_anomaly_data_path: Path\n",
    "    data_transformation_dir: Path  \n",
    "    \n",
    "   \n",
    "    heart_rate_predictor_model_name: str\n",
    "    anomaly_detector_model_name: str\n",
    "    \n",
    "    \n",
    "    heart_rate_target_column: str\n",
    "    anomaly_target_column: str"
   ]
  },
  {
   "cell_type": "code",
   "execution_count": 7,
   "id": "876ada10",
   "metadata": {},
   "outputs": [],
   "source": [
    "from Heart_Rate_Anomaly_Detector.constants import *\n",
    "from Heart_Rate_Anomaly_Detector.utils.common import read_yaml, create_directories"
   ]
  },
  {
   "cell_type": "code",
   "execution_count": 8,
   "id": "d4672ceb",
   "metadata": {},
   "outputs": [],
   "source": [
    "class ConfigurationManager:\n",
    "    def __init__(\n",
    "        self,\n",
    "        config_filepath = CONFIG_FILE_PATH,\n",
    "        params_filepath = PARAMS_FILE_PATH,\n",
    "        schema_filepath = SCHEMA_FILE_PATH):\n",
    "\n",
    "        self.config = read_yaml(config_filepath)\n",
    "        self.params = read_yaml(params_filepath)\n",
    "        self.schema = read_yaml(schema_filepath)\n",
    "\n",
    "        create_directories([self.config.artifacts_root])\n",
    "        \n",
    "    def get_model_trainer_config(self) -> ModelTrainerConfig:\n",
    "        config = self.config.model_trainer\n",
    "        \n",
    "        \n",
    "        heart_rate_params = self.params.HEART_RATE_PREDICTOR\n",
    "        anomaly_params = self.params.ANOMALY_DETECTOR\n",
    "        \n",
    "       \n",
    "        heart_rate_model_schema = self.schema.models.HeartRatePredictor\n",
    "        anomaly_model_schema = self.schema.models.AnomalyDetector\n",
    "\n",
    "        create_directories([config.root_dir])\n",
    "\n",
    "        model_trainer_config = ModelTrainerConfig(\n",
    "            root_dir=Path(config.root_dir),\n",
    "            train_heart_rate_data_path=Path(config.data_path.train_heart_rate),\n",
    "            test_heart_rate_data_path=Path(config.data_path.test_heart_rate),\n",
    "            train_is_anomaly_data_path=Path(config.data_path.train_is_anomaly),\n",
    "            test_is_anomaly_data_path=Path(config.data_path.test_is_anomaly),\n",
    "            data_transformation_dir=Path(self.config.data_transformation.root_dir),\n",
    "            \n",
    "         \n",
    "            heart_rate_predictor_model_name=config.model_name.heart_rate_predictor,\n",
    "            anomaly_detector_model_name=config.model_name.anomaly_detector,\n",
    "            \n",
    "           \n",
    "            heart_rate_target_column=heart_rate_model_schema.target_column,\n",
    "            anomaly_target_column=anomaly_model_schema.target_column\n",
    "        )\n",
    "        return model_trainer_config\n",
    "    \n",
    "    def get_heart_rate_features(self) -> list:\n",
    "       \n",
    "        return self.schema.models.HeartRatePredictor.features\n",
    "    \n",
    "    def get_anomaly_features(self) -> list:\n",
    "       \n",
    "        return self.schema.models.AnomalyDetector.features\n",
    "    \n",
    "    def get_column_dtypes(self) -> dict:\n",
    "        \n",
    "        return self.schema.columns"
   ]
  },
  {
   "cell_type": "code",
   "execution_count": null,
   "id": "2a9553cd",
   "metadata": {},
   "outputs": [],
   "source": [
    "class ModelTrainer:\n",
    "    def __init__(self, config):\n",
    "        self.config = config\n",
    "        self.scaler = None\n",
    "        self.feature_columns = None\n",
    "\n",
    "\n",
    "    def heart_rate_load_scaler(self):\n",
    "        \n",
    "        scaler_path = os.path.join(self.config.data_transformation_dir, \"scaler.joblib\")\n",
    "        if os.path.exists(scaler_path):\n",
    "            self.scaler = joblib.load(scaler_path)\n",
    "            logger.info(f\"Scaler loaded from: {scaler_path}\")\n",
    "        else:\n",
    "            logger.warning(f\"No scaler found at: {scaler_path}\")\n",
    "            self.scaler = None"
   ]
  }
 ],
 "metadata": {
  "kernelspec": {
   "display_name": "venv",
   "language": "python",
   "name": "python3"
  },
  "language_info": {
   "codemirror_mode": {
    "name": "ipython",
    "version": 3
   },
   "file_extension": ".py",
   "mimetype": "text/x-python",
   "name": "python",
   "nbconvert_exporter": "python",
   "pygments_lexer": "ipython3",
   "version": "3.13.7"
  }
 },
 "nbformat": 4,
 "nbformat_minor": 5
}
